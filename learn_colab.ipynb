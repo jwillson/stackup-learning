{
  "nbformat": 4,
  "nbformat_minor": 0,
  "metadata": {
    "colab": {
      "provenance": [],
      "gpuType": "T4",
      "authorship_tag": "ABX9TyM7VWjLYUB0QOL6MXW9kUyT",
      "include_colab_link": true
    },
    "kernelspec": {
      "name": "python3",
      "display_name": "Python 3"
    },
    "language_info": {
      "name": "python"
    },
    "accelerator": "GPU"
  },
  "cells": [
    {
      "cell_type": "markdown",
      "metadata": {
        "id": "view-in-github",
        "colab_type": "text"
      },
      "source": [
        "<a href=\"https://colab.research.google.com/github/jwillson/stackup-learning/blob/main/learn_colab.ipynb\" target=\"_parent\"><img src=\"https://colab.research.google.com/assets/colab-badge.svg\" alt=\"Open In Colab\"/></a>"
      ]
    },
    {
      "cell_type": "code",
      "source": [
        "print(\"Hello, Google Colab!\")"
      ],
      "metadata": {
        "colab": {
          "base_uri": "https://localhost:8080/"
        },
        "id": "ThoSwaCUvYqX",
        "outputId": "21dea9f2-0761-4545-919e-7fa843098a31"
      },
      "execution_count": 1,
      "outputs": [
        {
          "output_type": "stream",
          "name": "stdout",
          "text": [
            "Hello, Google Colab!\n"
          ]
        }
      ]
    },
    {
      "cell_type": "markdown",
      "source": [
        "# My First Colab Notebook\n",
        "This is a markdown cell where you can add text, links, images, and more."
      ],
      "metadata": {
        "id": "_G1ZNFEWv5jY"
      }
    }
  ]
}